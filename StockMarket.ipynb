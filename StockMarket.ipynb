{
 "cells": [
  {
   "cell_type": "code",
   "execution_count": 4,
   "id": "0fad9c7e",
   "metadata": {},
   "outputs": [
    {
     "name": "stdout",
     "output_type": "stream",
     "text": [
      "\n",
      "\n",
      "Recent News Headlines for AAPL: \n",
      "Another China Lockdown Threatens This Apple Product ( Apr-16-22 06:43PM )\n",
      "Traders Can Clench the Power of Compounding Returns. Here's How ( 10:00AM )\n",
      "2 Charts That Show Why It's Time to Buy the Dip in Meta Platforms' Stock ( 07:00AM )\n",
      "\n",
      "\n",
      "Recent News Headlines for TSLA: \n",
      "Elon Musk Has an Original Strategy to Take Control of Twitter ( Apr-17-22 10:01AM )\n",
      "Tesla Stock Vs. BYD Stock: Tesla Shanghai Set To Restart As Earnings Loom, But BYD Set To Seize EV Crown ( 08:55AM )\n",
      "Dow Jones Futures: Market Rally Weak, But Bulls Still Rule Here; Tesla Shanghai Reopening ( 08:53AM )\n",
      "\n",
      "\n",
      "Recent News Headlines for AMZN: \n",
      "These Upcoming Stock Splits Are Screaming Buys ( Apr-17-22 07:00AM )\n",
      "Amazon.com Partners With Everyone But SpaceX ( 06:06AM )\n",
      "3 Warren Buffett Stocks That Can Soar 33% to 60%, According to Wall Street ( 05:57AM )\n",
      "\n",
      "\n",
      "              Date     Time    neg    neu   pos  compound\n",
      "Ticker                                                   \n",
      "AAPL    2022-04-16  06:43PM  0.302  0.698  0.00   -0.3818\n",
      "AAPL    2022-04-16  10:00AM  0.000  1.000  0.00    0.0000\n",
      "AAPL    2022-04-16  07:00AM  0.000  1.000  0.00    0.0000\n",
      "AAPL    2022-04-16  12:00AM  0.000  1.000  0.00    0.0000\n",
      "AAPL    2022-04-15  12:48PM  0.000  0.710  0.29    0.5423\n",
      "\n",
      "\n",
      "              Date     Time    neg    neu    pos  compound\n",
      "Ticker                                                    \n",
      "TSLA    2022-04-17  10:01AM  0.000  0.813  0.187    0.3182\n",
      "TSLA    2022-04-17  08:55AM  0.071  0.929  0.000   -0.1154\n",
      "TSLA    2022-04-17  08:53AM  0.130  0.870  0.000   -0.2382\n",
      "TSLA    2022-04-17  08:49AM  0.000  0.841  0.159    0.1779\n",
      "TSLA    2022-04-17  08:08AM  0.000  1.000  0.000    0.0000\n",
      "\n",
      "\n",
      "              Date     Time    neg    neu    pos  compound\n",
      "Ticker                                                    \n",
      "AMZN    2022-04-17  07:00AM  0.302  0.698  0.000   -0.3818\n",
      "AMZN    2022-04-17  06:06AM  0.000  1.000  0.000    0.0000\n",
      "AMZN    2022-04-17  05:57AM  0.000  1.000  0.000    0.0000\n",
      "AMZN    2022-04-16  12:40PM  0.000  0.805  0.195    0.1779\n",
      "AMZN    2022-04-16  08:05AM  0.000  0.769  0.231    0.4019\n",
      "\n",
      "\n",
      "        Mean Sentiment\n",
      "Ticker                \n",
      "AMZN              0.16\n",
      "AAPL              0.00\n",
      "TSLA             -0.07\n"
     ]
    }
   ],
   "source": [
    "# Import libraries\n",
    "import lxml\n",
    "import pandas as pd\n",
    "from bs4 import BeautifulSoup\n",
    "import matplotlib.pyplot as plt\n",
    "from urllib.request import urlopen, Request\n",
    "from nltk.sentiment.vader import SentimentIntensityAnalyzer\n",
    "\n",
    "# Parameters \n",
    "n = 3 #the # of article headlines displayed per ticker\n",
    "tickers = ['AAPL', 'TSLA', 'AMZN']\n",
    "\n",
    "# Get Data\n",
    "finwiz_url = 'https://finviz.com/quote.ashx?t='\n",
    "news_tables = {}\n",
    "\n",
    "for ticker in tickers:\n",
    "    url = finwiz_url + ticker\n",
    "    req = Request(url=url,headers={'user-agent': 'my-app/0.0.1'}) \n",
    "    resp = urlopen(req)    \n",
    "    html = BeautifulSoup(resp, features=\"lxml\")\n",
    "    news_table = html.find(id='news-table')\n",
    "    news_tables[ticker] = news_table\n",
    "\n",
    "try:\n",
    "    for ticker in tickers:\n",
    "        df = news_tables[ticker]\n",
    "        df_tr = df.findAll('tr')\n",
    "    \n",
    "        print ('\\n')\n",
    "        print ('Recent News Headlines for {}: '.format(ticker))\n",
    "        \n",
    "        for i, table_row in enumerate(df_tr):\n",
    "            a_text = table_row.a.text\n",
    "            td_text = table_row.td.text\n",
    "            td_text = td_text.strip()\n",
    "            print(a_text,'(',td_text,')')\n",
    "            if i == n-1:\n",
    "                break\n",
    "except KeyError:\n",
    "    pass\n",
    "\n",
    "# Iterate through the news\n",
    "parsed_news = []\n",
    "for file_name, news_table in news_tables.items():\n",
    "    for x in news_table.findAll('tr'):\n",
    "        text = x.a.get_text() \n",
    "        date_scrape = x.td.text.split()\n",
    "\n",
    "        if len(date_scrape) == 1:\n",
    "            time = date_scrape[0]\n",
    "            \n",
    "        else:\n",
    "            date = date_scrape[0]\n",
    "            time = date_scrape[1]\n",
    "\n",
    "        ticker = file_name.split('_')[0]\n",
    "        \n",
    "        parsed_news.append([ticker, date, time, text])\n",
    "        \n",
    "# Sentiment Analysis\n",
    "analyzer = SentimentIntensityAnalyzer()\n",
    "\n",
    "columns = ['Ticker', 'Date', 'Time', 'Headline']\n",
    "news = pd.DataFrame(parsed_news, columns=columns)\n",
    "scores = news['Headline'].apply(analyzer.polarity_scores).tolist()\n",
    "\n",
    "df_scores = pd.DataFrame(scores)\n",
    "news = news.join(df_scores, rsuffix='_right')\n",
    "\n",
    "\n",
    "# View Data \n",
    "news['Date'] = pd.to_datetime(news.Date).dt.date\n",
    "\n",
    "unique_ticker = news['Ticker'].unique().tolist()\n",
    "news_dict = {name: news.loc[news['Ticker'] == name] for name in unique_ticker}\n",
    "\n",
    "values = []\n",
    "for ticker in tickers: \n",
    "    dataframe = news_dict[ticker]\n",
    "    dataframe = dataframe.set_index('Ticker')\n",
    "    dataframe = dataframe.drop(columns = ['Headline'])\n",
    "    print ('\\n')\n",
    "    print (dataframe.head())\n",
    "    \n",
    "    mean = round(dataframe['compound'].mean(), 2)\n",
    "    values.append(mean)\n",
    "    \n",
    "df = pd.DataFrame(list(zip(tickers, values)), columns =['Ticker', 'Mean Sentiment']) \n",
    "df = df.set_index('Ticker')\n",
    "df = df.sort_values('Mean Sentiment', ascending=False)\n",
    "print ('\\n')\n",
    "print (df)"
   ]
  },
  {
   "cell_type": "code",
   "execution_count": 1,
   "id": "8ff2e886",
   "metadata": {},
   "outputs": [
    {
     "name": "stdout",
     "output_type": "stream",
     "text": [
      "Requirement already satisfied: lxml in c:\\users\\hriti\\appdata\\local\\programs\\python\\python310\\lib\\site-packages (4.8.0)\n",
      "Note: you may need to restart the kernel to use updated packages.\n"
     ]
    },
    {
     "name": "stderr",
     "output_type": "stream",
     "text": [
      "WARNING: You are using pip version 21.2.4; however, version 22.0.4 is available.\n",
      "You should consider upgrading via the 'C:\\Users\\hriti\\AppData\\Local\\Programs\\Python\\Python310\\python.exe -m pip install --upgrade pip' command.\n"
     ]
    }
   ],
   "source": [
    "pip install lxml"
   ]
  },
  {
   "cell_type": "code",
   "execution_count": 3,
   "id": "c5be3212",
   "metadata": {},
   "outputs": [
    {
     "name": "stderr",
     "output_type": "stream",
     "text": [
      "[nltk_data] Downloading package vader_lexicon to\n",
      "[nltk_data]     C:\\Users\\hriti\\AppData\\Roaming\\nltk_data...\n"
     ]
    },
    {
     "data": {
      "text/plain": [
       "True"
      ]
     },
     "execution_count": 3,
     "metadata": {},
     "output_type": "execute_result"
    }
   ],
   "source": [
    "import nltk\n",
    "nltk.downloader.download('vader_lexicon')"
   ]
  },
  {
   "cell_type": "code",
   "execution_count": null,
   "id": "9c3c8e05",
   "metadata": {},
   "outputs": [],
   "source": []
  }
 ],
 "metadata": {
  "kernelspec": {
   "display_name": "Python 3 (ipykernel)",
   "language": "python",
   "name": "python3"
  },
  "language_info": {
   "codemirror_mode": {
    "name": "ipython",
    "version": 3
   },
   "file_extension": ".py",
   "mimetype": "text/x-python",
   "name": "python",
   "nbconvert_exporter": "python",
   "pygments_lexer": "ipython3",
   "version": "3.10.2"
  }
 },
 "nbformat": 4,
 "nbformat_minor": 5
}
